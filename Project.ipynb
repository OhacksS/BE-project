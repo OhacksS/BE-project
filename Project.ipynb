{
 "cells": [
  {
   "cell_type": "code",
   "execution_count": 8,
   "metadata": {},
   "outputs": [],
   "source": [
    "import cv2\n",
    "import datetime\n",
    "import os\n",
    "import numpy as np\n",
    "import pyttsx3\n",
    "from packaging import version\n",
    "import tensorflow as tf\n",
    "from tensorflow import keras\n",
    "import pywhatkit\n",
    "\n",
    "#from keras.preprocessing import image\n",
    "MODEL_PATH ='model2.h5'\n",
    "os.environ[\"HDF5_USE_FILE_LOCKING\"] = \"FALSE\"\n",
    "classifier = keras.models.load_model(MODEL_PATH)\n",
    "engine = pyttsx3.init()"
   ]
  },
  {
   "cell_type": "code",
   "execution_count": 9,
   "metadata": {},
   "outputs": [
    {
     "name": "stdout",
     "output_type": "stream",
     "text": [
      "Directory  tempimage_folder  already exists\n"
     ]
    }
   ],
   "source": [
    "\n",
    "def blur_background(grayscale, img):    \n",
    "    face = cascade_face.detectMultiScale(grayscale, 1.3, 5)\n",
    "    for (x_face, y_face, w_face, h_face) in face:\n",
    "        #storing face\n",
    "        roi_face= img[y_face: y_face+ h_face, x_face: x_face+ w_face]\n",
    "        img = cv2.blur(img,(10,10))\n",
    "        img[y_face: y_face+ h_face, x_face: x_face+ w_face]=roi_face\n",
    "    #return image        \n",
    "    return img\n",
    "\n",
    "\n",
    "# def blur_foreground(grayscale, img):\n",
    "#     face = cascade_face.detectMultiScale(grayscale, 1.3, 5)\n",
    "#     for (x_face, y_face, w_face, h_face) in face:\n",
    "#         roi_face= img[y_face: y_face+ h_face, x_face: x_face+ w_face]\n",
    "#         roi_face = cv2.blur(roi_face,(10,10))\n",
    "#         img[y_face: y_face+ h_face, x_face: x_face+ w_face]=[0,0,0]\n",
    "#         img[y_face: y_face+ h_face, x_face: x_face+ w_face]= cv2.add(roi_face, img[y_face: y_face+ h_face, x_face: x_face+ w_face])\n",
    "#     #return image        \n",
    "#     return img \n",
    "\n",
    "\n",
    "vc = cv2.VideoCapture(0) \n",
    "path= os.getcwd()\n",
    "# Create directory\n",
    "dirName = 'tempimage_folder'\n",
    "try:\n",
    "    os.mkdir(dirName)\n",
    "except FileExistsError:\n",
    "    print(\"Directory \" , dirName ,  \" already exists\")\n",
    "path= path+'/'+dirName\n",
    "\n",
    "#choice = input(\"What do you want to perform? (foreground blur/ background blur)\")\n",
    "cascade_face = cv2.CascadeClassifier('har.xml')\n",
    "cnt=0\n",
    "\n",
    "while cnt<500:\n",
    "    #read status of camera and frame\n",
    "    _, img = vc.read() \n",
    "    #convert image ot grayscale\n",
    "    grayscale = cv2.cvtColor(img, cv2.COLOR_BGR2GRAY) \n",
    "    \n",
    "    #result from function\n",
    "#     if choice == \"foreground\":\n",
    "#         final = blur_foreground(grayscale, img) \n",
    "#     elif choice == \"b\":\n",
    "    final = blur_background(grayscale, img) \n",
    "#     else:\n",
    "#         print(\"Invalid choice !\")\n",
    "#         break\n",
    "    \n",
    "    #showing captured image\n",
    "    cv2.imshow('Video', final) \n",
    "    \n",
    "    #name of our image, with current time, so that it has new name each time.\n",
    "    string = \"pic\"+str(datetime.datetime.now())+\".jpg\"\n",
    "    #save image\n",
    "    path=\"D:/New\"\n",
    "    cv2.imwrite(os.path.join(path, \"pic.jpg\"),final)\n",
    "    \n",
    "    if cv2.waitKey(1) & 0xFF == ord('q'):\n",
    "        break \n",
    "    cnt+=1\n",
    "\n",
    "    \n"
   ]
  },
  {
   "cell_type": "code",
   "execution_count": 10,
   "metadata": {},
   "outputs": [
    {
     "name": "stdout",
     "output_type": "stream",
     "text": [
      "In 13 seconds web.whatsapp.com will open and after 20 seconds message will be delivered\n"
     ]
    }
   ],
   "source": [
    "test_image = tf.keras.preprocessing.image.load_img('D:/New/1.jpg', target_size = (128, 128))\n",
    "test_image = tf.keras.preprocessing.image.img_to_array(test_image)\n",
    "test_image = np.expand_dims(test_image, axis = 0)\n",
    "result = classifier.predict(test_image)\n",
    "result = np.argmax(result, axis=1)\n",
    "#result\n",
    "# if result[0] == 0:\n",
    "#  prediction = 'level 0'\n",
    "# elif result[0] == 1:\n",
    "#  prediction = 'level 1'\n",
    "# elif result[0] == 2:\n",
    "#  prediction = 'level 2'\n",
    "# print(prediction)\n",
    "\n",
    "if result[0] == 0:\n",
    "    engine.say(\"Situation under Control\")\n",
    "    engine.runAndWait()\n",
    "    \n",
    "elif result[0] == 1:\n",
    "    engine.say(\"Level One Threat Detected please take required actions\")\n",
    "    engine.runAndWait()\n",
    "    now = datetime.datetime.now()\n",
    "    pywhatkit.sendwhatmsg(\"+917769000197\", \n",
    "                        \"\"\"\n",
    "                        \n",
    "                        ##*Alert From the Zeal Hospital*##\n",
    "\n",
    "                        *Level One Threat Detected Please Take Required actions patient needs attention*\n",
    "\n",
    "                        \"\"\",now.hour , now.minute+1)\n",
    "elif result[0] == 2:\n",
    "    engine.say(\"Emergency Alert Emergency Alert Level Two Threat Detected Immediate Action required\")\n",
    "    engine.runAndWait()\n",
    "    now = datetime.datetime.now()\n",
    "    pywhatkit.sendwhatmsg(\"+917769000197\", \n",
    "                        \"\"\"*\n",
    "                        ## *Alert From the Zeal Hospital* ##\n",
    "\n",
    "                        *Level Two Threat Detected Please Take Required actions patient needs attention*\n",
    "                        \n",
    "                        *Please be present on the spot as soon as possible.*\n",
    "\n",
    "                        \"\"\",now.hour , now.minute+1)\n",
    "\n",
    "    \n",
    "\n",
    "# result.clear()\n",
    "#vc.release() \n",
    "#cv2.destroyAllWindows() "
   ]
  },
  {
   "cell_type": "code",
   "execution_count": null,
   "metadata": {},
   "outputs": [],
   "source": []
  },
  {
   "cell_type": "code",
   "execution_count": null,
   "metadata": {},
   "outputs": [],
   "source": []
  },
  {
   "cell_type": "code",
   "execution_count": null,
   "metadata": {},
   "outputs": [],
   "source": []
  },
  {
   "cell_type": "code",
   "execution_count": null,
   "metadata": {},
   "outputs": [],
   "source": []
  },
  {
   "cell_type": "code",
   "execution_count": null,
   "metadata": {},
   "outputs": [],
   "source": []
  },
  {
   "cell_type": "code",
   "execution_count": null,
   "metadata": {},
   "outputs": [],
   "source": []
  }
 ],
 "metadata": {
  "kernelspec": {
   "display_name": "Python 3",
   "language": "python",
   "name": "python3"
  },
  "language_info": {
   "codemirror_mode": {
    "name": "ipython",
    "version": 3
   },
   "file_extension": ".py",
   "mimetype": "text/x-python",
   "name": "python",
   "nbconvert_exporter": "python",
   "pygments_lexer": "ipython3",
   "version": "3.7.3"
  }
 },
 "nbformat": 4,
 "nbformat_minor": 2
}
